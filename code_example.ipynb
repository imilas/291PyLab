{
 "cells": [
  {
   "cell_type": "markdown",
   "metadata": {},
   "source": [
    "### Python Lab 2 Tutorial\n",
    "This notebook will be an alternative the lecture notes as well as the coding section. It will be a mix of 3 components:\n",
    "1. Going over the lecture notes and demonstrating the concepts within the context of our database.\n",
    "    - This portion is done in the concepts notebooks\n",
    "2. Setting up the tables(student/enroll/course) and showing the students the data\n",
    "3. Covering the concepts in the coding example at the end of the lab. \n"
   ]
  },
  {
   "cell_type": "markdown",
   "metadata": {},
   "source": [
    "#### Imports\n",
    "As with any python file, we first import the necessary modules and define global variables for connecting to the database."
   ]
  },
  {
   "cell_type": "code",
   "execution_count": 1,
   "metadata": {},
   "outputs": [],
   "source": [
    "import sqlite3\n",
    "import time\n",
    "import hashlib\n",
    "import lab_utils as labUtils #contains some functions necessary for this lab\n",
    "connection = None\n",
    "cursor = None\n",
    "dbPath=\"./register_code_example.db\""
   ]
  },
  {
   "cell_type": "markdown",
   "metadata": {},
   "source": [
    "#### Initializing the database.\n",
    "First, we want to initialize a database. For simplicity, the definition of tables, their initialization and insertion of data is abstracted away in the lab_utils file. While you do not need to be familiar with the contents of lab_utils for this tutorial, it is advised for students to take a quick look at the lab_utils file as a refresher or as a reference for future projects. "
   ]
  },
  {
   "cell_type": "code",
   "execution_count": 2,
   "metadata": {},
   "outputs": [
    {
     "name": "stdout",
     "output_type": "stream",
     "text": [
      "created database at path: ./register_code_example.db\n"
     ]
    }
   ],
   "source": [
    "#create database or overwrite it\n",
    "labUtils.setupDatabase(dbPath)"
   ]
  },
  {
   "cell_type": "markdown",
   "metadata": {},
   "source": [
    "#### Connecting to the created database.\n",
    "Next, we want to connec to the database to the created database, which has the name \"register.db\". You'll notice that \"register.db\" exists withing the same directory as lab_utils and the notebook you are reading currently. "
   ]
  },
  {
   "cell_type": "code",
   "execution_count": 3,
   "metadata": {},
   "outputs": [
    {
     "data": {
      "text/plain": [
       "(<sqlite3.Connection at 0x7f44d8d503b0>, <sqlite3.Cursor at 0x7f44d8d936c0>)"
      ]
     },
     "execution_count": 3,
     "metadata": {},
     "output_type": "execute_result"
    }
   ],
   "source": [
    "def connect(path):\n",
    "    global connection, cursor\n",
    "    connection = sqlite3.connect(path)\n",
    "    cursor = connection.cursor()\n",
    "    cursor.execute(' PRAGMA forteign_keys=ON; ')\n",
    "    connection.commit()\n",
    "    return connection,cursor\n",
    "\n",
    "connect(dbPath)"
   ]
  },
  {
   "cell_type": "markdown",
   "metadata": {},
   "source": [
    "For convenience, we define a function that prints the contents of a table, given a table name. This function will be used throughout the tutorial to show contents of tables. For example printTable(\"students\") would print the contents of the students table"
   ]
  },
  {
   "cell_type": "code",
   "execution_count": 4,
   "metadata": {},
   "outputs": [],
   "source": [
    "def printTable(t):\n",
    "    try:\n",
    "        cursor.execute('select * from %s;'%(t,))\n",
    "        tRows=cursor.fetchall()\n",
    "        for row in tRows:\n",
    "            print(row)\n",
    "    except:\n",
    "        print(\"couldn't print %s, are you sure it exists?\"%(t,))"
   ]
  },
  {
   "cell_type": "markdown",
   "metadata": {},
   "source": [
    "#### Getting familiar with the database\n",
    "Let's first check the name of all tables in the database"
   ]
  },
  {
   "cell_type": "code",
   "execution_count": 5,
   "metadata": {},
   "outputs": [
    {
     "name": "stdout",
     "output_type": "stream",
     "text": [
      "Our tables are [('course',), ('student',), ('enroll',)]\n",
      "\n",
      "Here are the tables contents:\n",
      "\n",
      " course :\n",
      "\n",
      "(1, 'CMPUT 291', 197)\n",
      "(2, 'CMPUT 391', 97)\n",
      "(3, 'CMPUT 101', 297)\n",
      "\n",
      " student :\n",
      "\n",
      "(1409106, 'Alex')\n",
      "(1509106, 'Saeed')\n",
      "(1609106, 'Mike')\n",
      "\n",
      " enroll :\n",
      "\n",
      "(1409106, 1, '2019-09-11 14:36:03', 'A')\n",
      "(1509106, 1, '2019-09-11 14:36:03', 'A')\n",
      "(1609106, 1, '2019-09-11 14:36:03', 'C')\n",
      "(1409106, 2, '2019-09-11 14:36:03', 'B')\n",
      "(1509106, 2, '2019-09-11 14:36:03', 'C')\n",
      "(1609106, 2, '2019-09-11 14:36:03', 'B')\n",
      "(1409106, 3, '2019-09-11 14:36:03', 'F')\n",
      "(1509106, 3, '2019-09-11 14:36:03', 'C')\n",
      "(1609106, 3, '2019-09-11 14:36:03', None)\n"
     ]
    }
   ],
   "source": [
    "tables=cursor.execute(\"SELECT name FROM sqlite_master WHERE type='table';\").fetchall()\n",
    "print(\"Our tables are\",tables)\n",
    "print(\"\\nHere are the tables contents:\")\n",
    "for table in tables:\n",
    "    t=table[0]\n",
    "    print(\"\\n\",t,\":\\n\")\n",
    "    printTable(t)"
   ]
  },
  {
   "cell_type": "markdown",
   "metadata": {},
   "source": [
    "### Continuing the Example\n",
    "#### We've already covered:\n",
    "    - Schema:\n",
    "            •course (course_id, title, seats_available)\n",
    "            •student (student_id, name)\n",
    "            •enroll (student_id, course_id, enroll_date, grade)\n",
    "     - Our department offers some courses and we have a table for the students.\n",
    "     - Every student can register in a course.\n",
    "#### And now we want to implement the following:\n",
    "     - A drop courses function that safely removes a student from a course given student and course ids.\n",
    "     - A function that prints all students average numerical grade. "
   ]
  },
  {
   "cell_type": "markdown",
   "metadata": {},
   "source": [
    "### The drop function\n",
    "One way to implement this function is to delete the entry in the enroll table that corresponds to the student's enrollment, then add one to the number of seats available for that course.\n",
    "##### Notice that you can simply set seats_available=seats_available+1 in an SQLite query. "
   ]
  },
  {
   "cell_type": "code",
   "execution_count": 6,
   "metadata": {},
   "outputs": [],
   "source": [
    "def drop(student_id, course_id):\n",
    "    global connection, cursor\n",
    "    # Drop the course for the student \n",
    "    data = (student_id, course_id)    \n",
    "    cursor.execute('DELETE FROM enroll WHERE student_id=? and course_id=?;', data)\n",
    "    # Update the seats_avialable column\n",
    "    data = (course_id, student_id, course_id)    \n",
    "    cursor.execute( \n",
    "    ''' UPDATE course SET seats_available = seats_available + 1  \n",
    "    where course_id=? and NOT EXISTS  (select * from enroll \n",
    "    WHERE student_id=? and course_id=?); ''' ,data)\n",
    "    \n",
    "    connection.commit()\n",
    "    print(\"drop successeful!\")\n",
    "    return"
   ]
  },
  {
   "cell_type": "markdown",
   "metadata": {},
   "source": [
    "### List of numerical student averages\n",
    "Since student grades are stored as letter grades, we first define a python mapping function that maps letter grades to number, as discussed earlier in this tutorial. "
   ]
  },
  {
   "cell_type": "code",
   "execution_count": 7,
   "metadata": {},
   "outputs": [],
   "source": [
    "def GPA(grade):\n",
    "    global connection, cursor\n",
    "    # Map the grade to a numerical value\n",
    "    if grade=='A':\n",
    "        return 4   \n",
    "    elif grade=='B':        \n",
    "        return 3    \n",
    "    elif grade=='C':       \n",
    "        return 2\n",
    "    return 0"
   ]
  },
  {
   "cell_type": "markdown",
   "metadata": {},
   "source": [
    "We then use add this user defined function such that it can be utilized by SQLite"
   ]
  },
  {
   "cell_type": "code",
   "execution_count": 8,
   "metadata": {},
   "outputs": [],
   "source": [
    "connection.create_function('GPA', 1, GPA)"
   ]
  },
  {
   "cell_type": "markdown",
   "metadata": {},
   "source": [
    "Getting the AVG(grade) from our enroll table does not make any sense since grade is a TEXT data type. \n",
    "But AVG(GPA(grade)) does.\n",
    "\n",
    "Now we can use the GPA function in a query to get the average numerical GPA. \n"
   ]
  },
  {
   "cell_type": "code",
   "execution_count": 9,
   "metadata": {},
   "outputs": [],
   "source": [
    "def getNumericAverages():   \n",
    "    # We want a sorted list of the student names with their average GPAs.\n",
    "    cursor.execute('''\n",
    "    SELECT s.name, AVG(GPA(e.grade)) AS avg_gpa\n",
    "    FROM student AS s, enroll AS e \n",
    "    WHERE s.student_id = e.student_id\n",
    "    GROUP BY s.name\n",
    "    ORDER BY avg_gpa;''') \n",
    "    all_entry = cursor.fetchall()    \n",
    "    for one_entry in all_entry:        \n",
    "        print (one_entry)   \n",
    "\n"
   ]
  },
  {
   "cell_type": "markdown",
   "metadata": {},
   "source": [
    "Lets see if our function works:"
   ]
  },
  {
   "cell_type": "code",
   "execution_count": 10,
   "metadata": {},
   "outputs": [
    {
     "name": "stdout",
     "output_type": "stream",
     "text": [
      "('Mike', 1.6666666666666667)\n",
      "('Alex', 2.3333333333333335)\n",
      "('Saeed', 2.6666666666666665)\n"
     ]
    }
   ],
   "source": [
    "getNumericAverages()"
   ]
  }
 ],
 "metadata": {
  "kernelspec": {
   "display_name": "Python 3",
   "language": "python",
   "name": "python3"
  },
  "language_info": {
   "codemirror_mode": {
    "name": "ipython",
    "version": 3
   },
   "file_extension": ".py",
   "mimetype": "text/x-python",
   "name": "python",
   "nbconvert_exporter": "python",
   "pygments_lexer": "ipython3",
   "version": "3.6.8"
  },
  "varInspector": {
   "cols": {
    "lenName": 16,
    "lenType": 16,
    "lenVar": 40
   },
   "kernels_config": {
    "python": {
     "delete_cmd_postfix": "",
     "delete_cmd_prefix": "del ",
     "library": "var_list.py",
     "varRefreshCmd": "print(var_dic_list())"
    },
    "r": {
     "delete_cmd_postfix": ") ",
     "delete_cmd_prefix": "rm(",
     "library": "var_list.r",
     "varRefreshCmd": "cat(var_dic_list()) "
    }
   },
   "types_to_exclude": [
    "module",
    "function",
    "builtin_function_or_method",
    "instance",
    "_Feature"
   ],
   "window_display": false
  }
 },
 "nbformat": 4,
 "nbformat_minor": 2
}
