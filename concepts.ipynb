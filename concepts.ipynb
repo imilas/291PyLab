{
 "cells": [
  {
   "cell_type": "markdown",
   "metadata": {},
   "source": [
    "### Tutorial covering basic concepts of using Sqlite with Python\n",
    "- Create Table\n",
    "- Alter Table\n",
    "- Insert Values into the table\n",
    "- Print table\n",
    "- Drop and alter table\n",
    "- Running Queries using execute command\n",
    "- Null handling with Sqlite in python\n",
    "- SQL injection\n",
    "- Finding Errors\n",
    "- User defined SQL functions\n",
    "- Some Meta data (row_factory)\n",
    "\n"
   ]
  },
  {
   "cell_type": "code",
   "execution_count": 1,
   "metadata": {},
   "outputs": [],
   "source": [
    "#create table statements\n",
    "import sqlite3\n",
    "dbPath=\"./register_concepts.db\"\n",
    "conn = sqlite3.connect(dbPath)\n",
    "c = conn.cursor()\n",
    "c.execute(' PRAGMA foreign_keys=ON; ')\n",
    "c.execute(\"DROP table if exists department;\")\n",
    "c.execute('''CREATE TABLE department (dept_name TEXT, dept_id INTEGER, PRIMARY KEY (dept_id));''')\n",
    "c.execute('''ALTER TABLE department ADD year INTEGER;''')\n",
    "c.execute('''ALTER TABLE department ADD num_faculty INTEGER; ''')\n",
    "conn.commit()\n",
    "# Inserting values into the table\n",
    "c.execute('''INSERT INTO department VALUES            \n",
    "\t\t\t('Computing Science', 1, 2000, 100),            \n",
    "\t\t\t('Electrical', 2, 2008, 152),            \n",
    "\t\t\t('Mechanical', 3, 2016, 108);            \n",
    "\t\t''')\n",
    "conn.commit()"
   ]
  },
  {
   "cell_type": "code",
   "execution_count": 2,
   "metadata": {},
   "outputs": [
    {
     "name": "stdout",
     "output_type": "stream",
     "text": [
      "('Computing Science', 1, 2000, 100)\n",
      "('Electrical', 2, 2008, 152)\n",
      "('Mechanical', 3, 2016, 108)\n"
     ]
    }
   ],
   "source": [
    "#used to print the table\n",
    "def printTable(t):\n",
    "    try:\n",
    "        c.execute('select * from %s;'%(t,))\n",
    "        tRows=c.fetchall()\n",
    "        for row in tRows:\n",
    "            print(row)\n",
    "    except:\n",
    "        print(\"couldn't print %s, are you sure it exists?\"%(t,))\n",
    "        \n",
    "printTable(\"department\")"
   ]
  },
  {
   "cell_type": "code",
   "execution_count": 3,
   "metadata": {},
   "outputs": [
    {
     "name": "stdout",
     "output_type": "stream",
     "text": [
      "('Computing Science', 1, 100, 2000)\n",
      "('Electrical', 2, 152, 2008)\n",
      "('Mechanical', 3, 108, 2016)\n"
     ]
    }
   ],
   "source": [
    "#execute() will raise warnings if it is used for multiple queries at the same time\n",
    "c.execute(\"DROP table if exists temp;\")\n",
    "c.executescript('''ALTER TABLE department RENAME TO temp;\n",
    "                    CREATE TABLE department (\n",
    "                    dept_name TEXT,\n",
    "                    dept_id INTEGER,\n",
    "                    faculty_count INTEGER, year INTEGER, \n",
    "                    PRIMARY KEY (dept_id));\n",
    "                    INSERT INTO department SELECT dept_name, dept_id, num_faculty , year  FROM temp;\n",
    "                    DROP TABLE temp;''')\n",
    "conn.commit()\n",
    "printTable(\"department\")"
   ]
  },
  {
   "cell_type": "code",
   "execution_count": 4,
   "metadata": {},
   "outputs": [
    {
     "name": "stdout",
     "output_type": "stream",
     "text": [
      "Computing Science\n",
      "[('Computing Science', 1, 100, 2000), ('Electrical', 2, 152, 2008), ('Mechanical', 3, 108, 2016)]\n",
      "('Computing Science', 1, 100, 2000)\n",
      "('Electrical', 2, 152, 2008)\n",
      "('Mechanical', 3, 108, 2016)\n",
      "('Chemistry', 4, 200, 2002)\n",
      "('Law', 5, 160, 2010)\n",
      "('Business', 6, 208, 2018)\n"
     ]
    }
   ],
   "source": [
    "#Queries using execute command\n",
    "#Question mark placeholder method\n",
    "dept_number=(1,)\n",
    "c.execute('SELECT * FROM department WHERE dept_id=? ;', dept_number)\n",
    "#Named-placeholder method\n",
    "dept_number=1\n",
    "dept_year=2000\n",
    "c.execute(\"SELECT * FROM department WHERE dept_id=:num and year=:year\",   {\"num\":dept_number, \"year\": dept_year})\n",
    "\n",
    "#Rerieve results using fetchone command\n",
    "row=c.fetchone()\n",
    "print (row[0])\n",
    "c.execute(\"SELECT * FROM department;\")\n",
    "rows=c.fetchall()\n",
    "print (rows)\n",
    "insertions = [('Chemistry', 4, 200, 2002),       \n",
    "('Law', 5, 160, 2010),  ('Business', 6, 208, 2018)]\n",
    "c.executemany(\" INSERT INTO department VALUES (?,?,?,?) \", insertions);\n",
    "conn.commit()\n",
    "printTable(\"department\")\n",
    "\n",
    "\n",
    "\n",
    "\n",
    "\n"
   ]
  },
  {
   "cell_type": "code",
   "execution_count": 5,
   "metadata": {},
   "outputs": [
    {
     "name": "stdout",
     "output_type": "stream",
     "text": [
      "['dept_name', 'dept_id', 'faculty_count', 'year']\n",
      "Electrical 2008\n",
      "Mechanical 2016\n",
      "Chemistry 2002\n",
      "Law 2010\n",
      "Business 2018\n"
     ]
    }
   ],
   "source": [
    "conn.row_factory = sqlite3.Row\n",
    "c = conn.cursor()\n",
    "c.execute(\"SELECT * FROM department;\")\n",
    "row = c.fetchone()\n",
    "print (row.keys()) \n",
    "rows = c.fetchall()\n",
    "for each in rows:    \n",
    "    print (each[\"dept_name\"], each[\"year\"])\n"
   ]
  },
  {
   "cell_type": "code",
   "execution_count": 6,
   "metadata": {},
   "outputs": [],
   "source": [
    "#Null Handling\n",
    "c.execute(\"INSERT INTO department VALUES ('Civil',7,120,2000), ('Biology',8,128,2016), ('Design',9,null,null);\")\n",
    "conn.commit()\n",
    "#To only return full defined record:\n",
    "c.execute(\"SELECT * FROM department WHERE year IS NOT NULL;\")\n",
    "#To return records that contain null(s):\n",
    "c.execute(\"SELECT * FROM department WHERE year IS NULL;\")\n",
    "conn.commit()\n",
    "            "
   ]
  },
  {
   "cell_type": "code",
   "execution_count": 7,
   "metadata": {},
   "outputs": [
    {
     "name": "stdout",
     "output_type": "stream",
     "text": [
      "<sqlite3.Row object at 0x7f92944dfa30>\n"
     ]
    }
   ],
   "source": [
    "#Python NONE data type ≈ SQLite NULL\n",
    "c.execute('SELECT * FROM department;')\n",
    "depts = c.fetchall()\n",
    "for dept in depts:\n",
    "    for year in dept:\n",
    "        if year == None:\n",
    "            print(dept)\n",
    "            break\n",
    "            \n",
    "#conn.close()"
   ]
  },
  {
   "cell_type": "code",
   "execution_count": 8,
   "metadata": {},
   "outputs": [
    {
     "name": "stdout",
     "output_type": "stream",
     "text": [
      "<sqlite3.Row object at 0x7f92944df8d0>\n",
      "<sqlite3.Row object at 0x7f92944df6b0>\n",
      "<sqlite3.Row object at 0x7f92944dfa70>\n",
      "<sqlite3.Row object at 0x7f92944dfbb0>\n",
      "<sqlite3.Row object at 0x7f92944dfbf0>\n",
      "<sqlite3.Row object at 0x7f92944dfb70>\n",
      "<sqlite3.Row object at 0x7f92944dfc50>\n",
      "<sqlite3.Row object at 0x7f92944dfc90>\n",
      "<sqlite3.Row object at 0x7f92944dfcb0>\n",
      "<sqlite3.Row object at 0x7f92944dfcf0>\n",
      "<sqlite3.Row object at 0x7f92944dfd30>\n",
      "<sqlite3.Row object at 0x7f92944dfd70>\n"
     ]
    }
   ],
   "source": [
    "#insert different values for its parameters through a single query\n",
    "insertions = [\t('Education', 10, 200, 2002),       \n",
    "\t\t\t('Physics', 11, 160, 2010),\n",
    "            ('Psychology', 12, 208, 2018),]\n",
    "c.executemany(\" INSERT INTO department VALUES (?,?,?,?) \", insertions);\n",
    "conn.commit();\n",
    "printTable(\"department\");"
   ]
  },
  {
   "cell_type": "code",
   "execution_count": 9,
   "metadata": {},
   "outputs": [
    {
     "name": "stdout",
     "output_type": "stream",
     "text": [
      "('root', 'root123', 'admin', '5554449898', 1991)\n",
      "('John_Mo', 'J1234', 'John', '5554443232', 1990)\n",
      "('Anna_Lu', 'A1234', 'Anna', '5554447373', 1992)\n",
      "('Emma_Bo', 'E1234', 'Emma', '5554448787', 1995)\n"
     ]
    }
   ],
   "source": [
    "#create table statements\n",
    "import sqlite3\n",
    "conn = sqlite3.connect(dbPath)\n",
    "c = conn.cursor()\n",
    "c.execute(' PRAGMA foreign_keys=ON; ')\n",
    "c.execute(\"DROP table if exists Account;\")\n",
    "c.execute('''CREATE TABLE Account (username TEXT, password TEXT, name TEXT, phone TEXT, birthday INTEGER, PRIMARY KEY (username));''')\n",
    "conn.commit()\n",
    "c.execute('''INSERT INTO Account VALUES    \n",
    "\t\t\t('root', 'root123', 'admin', '5554449898', 1991), \n",
    "\t\t\t('John_Mo', 'J1234', 'John', '5554443232', 1990),            \n",
    "\t\t\t('Anna_Lu', 'A1234', 'Anna', '5554447373', 1992),            \n",
    "\t\t\t('Emma_Bo', 'E1234', 'Emma', '5554448787', 1995);            \n",
    "\t\t''')\n",
    "conn.commit()\n",
    "printTable(\"Account\")\n"
   ]
  },
  {
   "cell_type": "code",
   "execution_count": 10,
   "metadata": {},
   "outputs": [
    {
     "name": "stdout",
     "output_type": "stream",
     "text": [
      "('root', 'root123', 'admin', '5554449898', 1991)\n"
     ]
    }
   ],
   "source": [
    "username = \"root\"\n",
    "password = \"root123\"\n",
    "c.execute(\"SELECT * FROM Account WHERE username='%s' and password='%s' ;\" % (username, password))\n",
    "accounts = c.fetchall()\n",
    "for account in accounts:\n",
    "    print(account)\n",
    "    break"
   ]
  },
  {
   "cell_type": "code",
   "execution_count": 11,
   "metadata": {},
   "outputs": [
    {
     "name": "stdout",
     "output_type": "stream",
     "text": [
      "('root', 'root123', 'admin', '5554449898', 1991)\n"
     ]
    }
   ],
   "source": [
    "#attacker!!\n",
    "username = \"root\"\n",
    "password = \"attacker' or '1' = '1\"\n",
    "c.execute(\"SELECT * FROM Account WHERE username='%s' and password='%s' ;\" % (username, password))\n",
    "accounts = c.fetchall()\n",
    "for account in accounts:\n",
    "    print(account)\n",
    "    break"
   ]
  },
  {
   "cell_type": "code",
   "execution_count": 12,
   "metadata": {},
   "outputs": [
    {
     "name": "stdout",
     "output_type": "stream",
     "text": [
      "**Real User**\n",
      "('root', 'root123', 'admin', '5554449898', 1991)\n",
      "**Attacker**\n"
     ]
    }
   ],
   "source": [
    "#prevent SQL injections solution 1\n",
    "print (\"**Real User**\")\n",
    "username = \"root\"\n",
    "password = \"root123\"\n",
    "c.execute(\"SELECT * FROM Account WHERE username=:user and password=:pass ;\" , {\"user\": username, \"pass\":password})\n",
    "accounts = c.fetchall()\n",
    "for account in accounts:\n",
    "    print(account)\n",
    "    break\n",
    "\n",
    "print (\"**Attacker**\")   \n",
    "username = \"root\"\n",
    "password = \"attacker' or '1' = '1\"\n",
    "c.execute(\"SELECT * FROM Account WHERE username=:user and password=:pass ;\" , {\"user\": username, \"pass\":password})\n",
    "accounts = c.fetchall()\n",
    "for account in accounts:\n",
    "    print(account)\n",
    "    break"
   ]
  },
  {
   "cell_type": "code",
   "execution_count": 13,
   "metadata": {},
   "outputs": [
    {
     "name": "stdout",
     "output_type": "stream",
     "text": [
      "**Real User**\n",
      "('root', 'root123', 'admin', '5554449898', 1991)\n",
      "**Attacker**\n"
     ]
    }
   ],
   "source": [
    "#prevent SQL injections solution 2\n",
    "print (\"**Real User**\")\n",
    "username = \"root\"\n",
    "password = \"root123\"\n",
    "c.execute(\"SELECT * FROM Account WHERE username=? and password=? ;\" , (username, password))\n",
    "accounts = c.fetchall()\n",
    "for account in accounts:\n",
    "    print(account)\n",
    "    break\n",
    "\n",
    "print (\"**Attacker**\")   \n",
    "username = \"root\"\n",
    "password = \"attacker' or '1' = '1\"\n",
    "c.execute(\"SELECT * FROM Account WHERE username=? and password=? ;\" , (username, password))\n",
    "accounts = c.fetchall()\n",
    "for account in accounts:\n",
    "    print(account)\n",
    "    break\n"
   ]
  },
  {
   "cell_type": "code",
   "execution_count": 14,
   "metadata": {},
   "outputs": [
    {
     "name": "stdout",
     "output_type": "stream",
     "text": [
      "**Real User**\n",
      "('root', 'root123', 'admin', '5554449898', 1991)\n",
      "**Attacker**\n"
     ]
    }
   ],
   "source": [
    "#prevent SQL injections solution 3\n",
    "import re\n",
    "\n",
    "print (\"**Real User**\")\n",
    "username = \"root\"\n",
    "password = \"root123\"\n",
    "if re.match(\"^[A-Za-z0-9_]*$\", username) and re.match(\"^[A-Za-z0-9_]*$\", password):\n",
    "\tc.execute('SELECT * FROM Account WHERE username=? and password=?;' , (username, password))\n",
    "accounts = c.fetchall()\n",
    "for account in accounts:\n",
    "    print(account)\n",
    "    break\n",
    "    \n",
    "print (\"**Attacker**\")   \n",
    "username = \"root\"\n",
    "password = \"attacker' or '1' = '1\"\n",
    "if re.match(\"^[A-Za-z0-9_]*$\", username) and re.match(\"^[A-Za-z0-9_]*$\", password):\n",
    "\tc.execute('SELECT * FROM Account WHERE username=? and password=?;' , (username, password))\n",
    "accounts = c.fetchall()\n",
    "for account in accounts:\n",
    "    print(account)\n",
    "    break"
   ]
  },
  {
   "cell_type": "code",
   "execution_count": 15,
   "metadata": {},
   "outputs": [
    {
     "name": "stdout",
     "output_type": "stream",
     "text": [
      "('root', 'root123', 'admin', '5554449898', 1991)\n",
      "('John_Mo', 'J1234', 'John', '5554443232', 1990)\n",
      "('Anna_Lu', 'A1234', 'Anna', '5554447373', 1992)\n",
      "('Emma_Bo', 'E1234', 'Emma', '5554448787', 1995)\n",
      "('test_complete', 'T123', 'SemiColoumn', '5554446161', 1990)\n"
     ]
    }
   ],
   "source": [
    "#Finding Errors\n",
    "text = \"INSERT INTO Account VALUES ('test_complete', 'T123', 'SemiColoumn', '5554446161', 1990);\"\n",
    "if sqlite3.complete_statement(text):\n",
    "\tc.execute(text)\n",
    "\n",
    "text = \"INSERT INTO Account VALUES ('test_incomplete', 'T123', 'NoSemiColoumn', '5554446262', 1990)\"\n",
    "if sqlite3.complete_statement(text):\n",
    "\tc.execute(text)\n",
    "    \n",
    "conn.commit()\n",
    "printTable(\"Account\")"
   ]
  },
  {
   "cell_type": "code",
   "execution_count": 16,
   "metadata": {},
   "outputs": [
    {
     "name": "stdout",
     "output_type": "stream",
     "text": [
      "Error: UNIQUE constraint failed: Account.username\n"
     ]
    }
   ],
   "source": [
    "#Try-catching for errors:\n",
    "\n",
    "text = \"INSERT INTO Account VALUES ('John_Mo', 'JJ12', 'John', '5554440101', 1994);\"\n",
    "try: \n",
    "\t      c.execute(text)\n",
    "except sqlite3.Error as e:\n",
    "    print ('Error:', e.args[0])"
   ]
  },
  {
   "cell_type": "code",
   "execution_count": 17,
   "metadata": {},
   "outputs": [
    {
     "name": "stdout",
     "output_type": "stream",
     "text": [
      "('root', 'root123', 'admin', '5554449898', 1991)\n",
      "('John_Mo', 'J1234', 'John', '5554443232', 1990)\n",
      "('Anna_Lu', 'A1234', 'Anna', '5554447373', 1992)\n",
      "('Emma_Bo', 'E1234', 'Emma', '5554448787', 1995)\n",
      "('test_complete', 'T123', 'SemiColoumn', '5554446161', 1990)\n",
      "('Robin_Na', 'f6f4a68ffee3946897fd98ace4798fd7c45d4d43d126199efc7069cc714a65b5', 'Robin', '5554449797', 1997)\n"
     ]
    }
   ],
   "source": [
    "#Encrypt Passwords\n",
    "\n",
    "import hashlib\n",
    "def encrypt(password):\n",
    "\talg = hashlib.sha256() \n",
    "\talg.update(password.encode(\"utf-8\"))\n",
    "\treturn alg.hexdigest()\n",
    "\t\n",
    "conn.create_function(\"hash\", 1, encrypt) \n",
    "data = (\"Robin_Na\", \"R1234\", \"Robin\", \"5554449797\", 1997);\n",
    "c.execute(\" INSERT INTO Account (username, password, name, phone, birthday) VALUES (?, hash(?), ?, ?, ?) \", data );\n",
    "conn.commit()\n",
    "printTable(\"Account\")"
   ]
  },
  {
   "cell_type": "code",
   "execution_count": 18,
   "metadata": {},
   "outputs": [
    {
     "name": "stdout",
     "output_type": "stream",
     "text": [
      "('5554449797',)\n"
     ]
    }
   ],
   "source": [
    "#Check Passwords\n",
    "\n",
    "import hashlib\n",
    "def encrypt(password):\n",
    "\talg = hashlib.sha256() \n",
    "\talg.update(password.encode(\"utf-8\"))\n",
    "\treturn alg.hexdigest()\n",
    "\n",
    "conn.create_function(\"hash\", 1, encrypt) \n",
    "\n",
    "data = (\"R1234\", )\n",
    "c.execute(\" SELECT phone FROM Account WHERE password LIKE hash(?) \", data);\n",
    "phones = c.fetchall()\n",
    "for phone in phones:\n",
    "    print(phone)\n",
    "    break"
   ]
  },
  {
   "cell_type": "code",
   "execution_count": 19,
   "metadata": {},
   "outputs": [
    {
     "name": "stdout",
     "output_type": "stream",
     "text": [
      "name of the first column: username\n"
     ]
    }
   ],
   "source": [
    "c.execute(\" SELECT * from Account; \")\n",
    "print (\"name of the first column: \" + c.description[0][0])\n"
   ]
  },
  {
   "cell_type": "code",
   "execution_count": 20,
   "metadata": {},
   "outputs": [
    {
     "name": "stdout",
     "output_type": "stream",
     "text": [
      " the first column: \n",
      "root\n"
     ]
    }
   ],
   "source": [
    "#Row Factory\n",
    "\n",
    "def dictionary_factory (cursor, row):\n",
    "\tdict = {}\n",
    "\tfor i, col in enumerate(cursor.description): \n",
    "\t\tdict[col[0]] = row[i]\n",
    "\treturn dict\n",
    "  \n",
    "conn.row_factory = dictionary_factory \n",
    "cur = conn.cursor()\n",
    "\n",
    "cur.execute(\" SELECT * from Account; \")\n",
    "result = cur.fetchone()\n",
    "print (\" the first column: \")\n",
    "print ( result['username'] )\n"
   ]
  }
 ],
 "metadata": {
  "kernelspec": {
   "display_name": "Python 3",
   "language": "python",
   "name": "python3"
  },
  "language_info": {
   "codemirror_mode": {
    "name": "ipython",
    "version": 3
   },
   "file_extension": ".py",
   "mimetype": "text/x-python",
   "name": "python",
   "nbconvert_exporter": "python",
   "pygments_lexer": "ipython3",
   "version": "3.6.8"
  },
  "varInspector": {
   "cols": {
    "lenName": 16,
    "lenType": 16,
    "lenVar": 40
   },
   "kernels_config": {
    "python": {
     "delete_cmd_postfix": "",
     "delete_cmd_prefix": "del ",
     "library": "var_list.py",
     "varRefreshCmd": "print(var_dic_list())"
    },
    "r": {
     "delete_cmd_postfix": ") ",
     "delete_cmd_prefix": "rm(",
     "library": "var_list.r",
     "varRefreshCmd": "cat(var_dic_list()) "
    }
   },
   "types_to_exclude": [
    "module",
    "function",
    "builtin_function_or_method",
    "instance",
    "_Feature"
   ],
   "window_display": false
  }
 },
 "nbformat": 4,
 "nbformat_minor": 2
}
