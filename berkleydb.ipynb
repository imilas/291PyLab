{
 "cells": [
  {
   "cell_type": "code",
   "execution_count": 1,
   "metadata": {},
   "outputs": [],
   "source": [
    "from bsddb3 import db\n",
    "database = db.DB() #handle for Berkeley DB database\n",
    "DB_File = \"fruit.db\"\n",
    "# database.open(DB_File ,None, db.DB_HASH, db.DB_CREATE)\n",
    "database.open(DB_File ,None, db.DB_BTREE, db.DB_CREATE)\n",
    "# database.open(DB_File ,None, db.DB_QUEUE, db.DB_CREATE)\n",
    "# database.open(DB_File ,None, db.DB_RECNO, db.DB_CREATE)\n",
    "# The arguments correspond to (fileName, database name within the file for multiple\n",
    "# databases, database type, flag to create database)"
   ]
  },
  {
   "cell_type": "code",
   "execution_count": 2,
   "metadata": {},
   "outputs": [],
   "source": [
    "curs = database.cursor()"
   ]
  },
  {
   "cell_type": "code",
   "execution_count": 3,
   "metadata": {},
   "outputs": [],
   "source": [
    "# insertion of (key, value) pair using the cursor:\n",
    "#The arguments corresponds to (key, value, flag to insert key-value pair )\n",
    "curs.put(b\"apple\", \"red\", db.DB_KEYFIRST)\n",
    "# insertion using the database object’s put method\n",
    "database.put(b\"pear\", \"green\")"
   ]
  },
  {
   "cell_type": "code",
   "execution_count": 4,
   "metadata": {},
   "outputs": [
    {
     "name": "stdout",
     "output_type": "stream",
     "text": [
      "(b'apple', b'yellow')\n",
      "(b'orange', b'orange')\n",
      "(b'pear', b'yellow')\n"
     ]
    }
   ],
   "source": [
    "# a function to populate fruit.db\n",
    "def addData():\n",
    "    database.put(b\"pear\", \"green\")\n",
    "    database.put(b\"pear\", \"yellow\")\n",
    "    database.put(b\"orange\", \"orange\")\n",
    "    database.put(b\"apple\", \"green\")\n",
    "    database.put(b\"apple\", \"red\")\n",
    "    database.put(b\"apple\", \"yellow\")\n",
    "addData()    \n",
    "#use the cursor to define a function that prints everything in the database\n",
    "def printAll():\n",
    "    iter = curs.first()\n",
    "    while iter:\n",
    "        print(iter)\n",
    "        iter = curs.next()\n",
    "printAll()"
   ]
  },
  {
   "cell_type": "code",
   "execution_count": 5,
   "metadata": {},
   "outputs": [
    {
     "name": "stdout",
     "output_type": "stream",
     "text": [
      "b'yellow'\n"
     ]
    }
   ],
   "source": [
    "# using the database object’s get method: only retrieves the value\n",
    "result = database.get(b'pear')\n",
    "print(result)"
   ]
  },
  {
   "cell_type": "code",
   "execution_count": 6,
   "metadata": {},
   "outputs": [
    {
     "name": "stdout",
     "output_type": "stream",
     "text": [
      "(b'apple', b'yellow')\n"
     ]
    }
   ],
   "source": [
    "# using the cursor object’s set method:\n",
    "result = curs.set(b'apple')\n",
    "#Moves the cursor to the specified key in the database and return the associated key/value pair.\n",
    "print(result)"
   ]
  },
  {
   "cell_type": "code",
   "execution_count": 7,
   "metadata": {},
   "outputs": [
    {
     "name": "stdout",
     "output_type": "stream",
     "text": [
      "deleting (b'apple', b'yellow') \n",
      "\n",
      "This is what's left in the table:\n",
      "(b'orange', b'orange')\n",
      "(b'pear', b'yellow')\n"
     ]
    }
   ],
   "source": [
    "# remove using the cursor – deletes the key-value pair currently referenced by the cursor:\n",
    "print(\"deleting\",curs.current(),\"\\n\") #Returns the key/value pair currently referenced by the cursor\n",
    "curs.delete()\n",
    "print(\"This is what's left in the table:\")\n",
    "printAll()"
   ]
  },
  {
   "cell_type": "code",
   "execution_count": 8,
   "metadata": {},
   "outputs": [],
   "source": [
    "# closing the database so we can open a new database with duplicates allowed\n",
    "curs.close()\n",
    "database.close()"
   ]
  },
  {
   "cell_type": "markdown",
   "metadata": {},
   "source": [
    "#### Now we enable duplicates"
   ]
  },
  {
   "cell_type": "code",
   "execution_count": 9,
   "metadata": {},
   "outputs": [],
   "source": [
    "from bsddb3 import db\n",
    "database = db.DB()\n",
    "database.set_flags(db.DB_DUP)\n",
    "DB_File = \"fruits_with_duplicates.db\"\n",
    "database.open(DB_File ,None, db.DB_HASH, db.DB_CREATE)\n",
    "curs = database.cursor()"
   ]
  },
  {
   "cell_type": "code",
   "execution_count": 10,
   "metadata": {},
   "outputs": [
    {
     "name": "stdout",
     "output_type": "stream",
     "text": [
      "(b'apple', b'green')\n",
      "(b'apple', b'red')\n",
      "(b'apple', b'yellow')\n",
      "(b'orange', b'orange')\n",
      "(b'pear', b'green')\n",
      "(b'pear', b'yellow')\n",
      "(b'plum', b'purple')\n",
      "(b'plum', b'yellow-green')\n"
     ]
    }
   ],
   "source": [
    "# a function to populate fruit.db\n",
    "def addData():\n",
    "    database.put(b\"pear\", \"green\")\n",
    "    database.put(b\"pear\", \"yellow\")\n",
    "    database.put(b\"orange\", \"orange\")\n",
    "    database.put(b\"apple\", \"green\")\n",
    "    database.put(b\"apple\", \"red\")\n",
    "    database.put(b\"apple\", \"yellow\")\n",
    "    database.put(b\"plum\", \"purple\")\n",
    "    database.put(b\"plum\", \"yellow-green\")\n",
    "addData()    \n",
    "#use the cursor to define a function that prints everything in the database\n",
    "def printAll():\n",
    "    iter = curs.first()\n",
    "    while iter:\n",
    "        print(iter)\n",
    "        iter = curs.next()\n",
    "printAll()"
   ]
  },
  {
   "cell_type": "code",
   "execution_count": 11,
   "metadata": {},
   "outputs": [
    {
     "name": "stdout",
     "output_type": "stream",
     "text": [
      "(b'apple', b'green')\n",
      "3\n",
      "(b'apple', b'red')\n"
     ]
    }
   ],
   "source": [
    "#Duplicate key-value pairs could be traversed using cursor\n",
    "# prints no. of k-v pairs that have the same key (for the key which the cursor is pointing to)\n",
    "print(curs.first()) #try cursor.last()\n",
    "print(curs.count())\n",
    "# prints the next k-v pair if it is a duplicate\n",
    "print(curs.next_dup())\n",
    "#returns ‘None’ if the next k-v pair of the database is not a duplicate data record for the\n",
    "# current key/value pair"
   ]
  },
  {
   "cell_type": "markdown",
   "metadata": {},
   "source": [
    "### Exercise 1\n",
    "Iterating through k-v pair including duplicates:"
   ]
  },
  {
   "cell_type": "code",
   "execution_count": 12,
   "metadata": {},
   "outputs": [
    {
     "name": "stdout",
     "output_type": "stream",
     "text": [
      "3\n",
      "(b'apple', b'green')\n",
      "(b'apple', b'red')\n",
      "(b'apple', b'yellow')\n",
      "2\n",
      "(b'pear', b'green')\n",
      "(b'pear', b'yellow')\n",
      "2\n",
      "(b'plum', b'purple')\n",
      "(b'plum', b'yellow-green')\n"
     ]
    }
   ],
   "source": [
    "curs = database.cursor()\n",
    "iter = curs.first()\n",
    "while (iter):\n",
    "    print(curs.count())\n",
    "    #prints no. of rows that have the same key for the current key-value pair referred by cursor.\n",
    "    print(iter)\n",
    "    #iterating through duplicates:\n",
    "    dup = curs.next_dup()\n",
    "    while(dup!=None):\n",
    "        print(dup)\n",
    "        dup = curs.next_dup()\n",
    "        iter = curs.next()"
   ]
  },
  {
   "cell_type": "code",
   "execution_count": null,
   "metadata": {},
   "outputs": [],
   "source": [
    "from bsddb3 import db\n",
    "DB_File = \"students.db\"\n",
    "database = db.DB()\n",
    "database.set_flags(db.DB_DUP) #declare duplicates allowed before you create the database\n",
    "database.open(DB_File,None, db.DB_BTREE, db.DB_CREATE)\n",
    "curs = database.cursor()\n",
    "\n",
    "while(True):\n",
    "    name = input(\"Enter a student Name to look up: \")\n",
    "    if(name == \"q\"): #Termination Condition\n",
    "        break\n",
    "    \n",
    "    result = curs.set(name.encode(\"utf-8\")) \n",
    "    #In the presence of duplicate key values, result will be set on the first data item for the given key. \n",
    "   \n",
    "    if(result != None):\n",
    "        print(\"List of students with this name and their marks:\")\n",
    "        print(\"Name: \" + str(result[0].decode(\"utf-8\")) + \", Mark: \" + str(result[1].decode(\"utf-8\")))\n",
    "        \n",
    "        #iterating through duplicates:\n",
    "        dup = curs.next_dup()\n",
    "        while(dup != None):\n",
    "            print(\"Name: \" + str(dup[0].decode(\"utf-8\")) + \", Mark: \" + str(dup[1].decode(\"utf-8\")))\n",
    "            dup = curs.next_dup()\n",
    "    else:\n",
    "        print(\"No Entry Found.\")\n",
    "            \n",
    "    ToBeAdded = input(\"Do you want to insert the input name into the database?(Enter y for yes) \")\n",
    "    \n",
    "    if(ToBeAdded == \"y\"):\n",
    "        database.put(name.encode(\"utf-8\"), input(\"Insert Mark: \"))\n",
    "\n",
    "curs.close()\n",
    "database.close()"
   ]
  }
 ],
 "metadata": {
  "kernelspec": {
   "display_name": "Python 3",
   "language": "python",
   "name": "python3"
  },
  "language_info": {
   "codemirror_mode": {
    "name": "ipython",
    "version": 3
   },
   "file_extension": ".py",
   "mimetype": "text/x-python",
   "name": "python",
   "nbconvert_exporter": "python",
   "pygments_lexer": "ipython3",
   "version": "3.6.8"
  }
 },
 "nbformat": 4,
 "nbformat_minor": 4
}
